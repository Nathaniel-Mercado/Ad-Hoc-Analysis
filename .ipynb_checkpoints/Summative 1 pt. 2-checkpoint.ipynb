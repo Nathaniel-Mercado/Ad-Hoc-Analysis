{
 "cells": [
  {
   "cell_type": "code",
   "execution_count": 1,
   "id": "8def0b17-6f94-49c4-a288-a8a0dc469c95",
   "metadata": {},
   "outputs": [
    {
     "name": "stderr",
     "output_type": "stream",
     "text": [
      "C:\\Users\\user\\AppData\\Local\\Temp\\ipykernel_7752\\435152088.py:19: SettingWithCopyWarning: \n",
      "A value is trying to be set on a copy of a slice from a DataFrame.\n",
      "Try using .loc[row_indexer,col_indexer] = value instead\n",
      "\n",
      "See the caveats in the documentation: https://pandas.pydata.org/pandas-docs/stable/user_guide/indexing.html#returning-a-view-versus-a-copy\n",
      "  af[\"transaction_date\"] = af[\"transaction_date\"].apply(cmonth)\n"
     ]
    }
   ],
   "source": [
    "import json\n",
    "import pandas as pd\n",
    "import re\n",
    "from datetime import datetime\n",
    "import matplotlib.pyplot as plt\n",
    "\n",
    "#Opening the Json File\n",
    "with open(\"transaction-data-adhoc-analysis.json\") as f:\n",
    "    data = json.load(f)\n",
    "\n",
    "udata = pd.read_json('transaction-data-adhoc-analysis.json', orient='column')\n",
    "df = pd.DataFrame(udata)\n",
    "\n",
    "af = df[['name', 'transaction_date']]\n",
    "\n",
    "def cmonth(Date):\n",
    "    dates = datetime.strptime(Date, \"%Y/%m/%d\")\n",
    "    return dates.month\n",
    "af[\"transaction_date\"] = af[\"transaction_date\"].apply(cmonth)"
   ]
  },
  {
   "cell_type": "code",
   "execution_count": 2,
   "id": "d218b7b2-42fc-43d2-9cc2-46d51fdd6d95",
   "metadata": {},
   "outputs": [
    {
     "name": "stderr",
     "output_type": "stream",
     "text": [
      "C:\\Users\\user\\AppData\\Local\\Temp\\ipykernel_7752\\4205839930.py:7: SettingWithCopyWarning: \n",
      "A value is trying to be set on a copy of a slice from a DataFrame.\n",
      "Try using .loc[row_indexer,col_indexer] = value instead\n",
      "\n",
      "See the caveats in the documentation: https://pandas.pydata.org/pandas-docs/stable/user_guide/indexing.html#returning-a-view-versus-a-copy\n",
      "  af['January'] = af['transaction_date'].apply(jan)\n",
      "C:\\Users\\user\\AppData\\Local\\Temp\\ipykernel_7752\\4205839930.py:14: SettingWithCopyWarning: \n",
      "A value is trying to be set on a copy of a slice from a DataFrame.\n",
      "Try using .loc[row_indexer,col_indexer] = value instead\n",
      "\n",
      "See the caveats in the documentation: https://pandas.pydata.org/pandas-docs/stable/user_guide/indexing.html#returning-a-view-versus-a-copy\n",
      "  af['February'] =af['transaction_date'].apply(feb)\n",
      "C:\\Users\\user\\AppData\\Local\\Temp\\ipykernel_7752\\4205839930.py:21: SettingWithCopyWarning: \n",
      "A value is trying to be set on a copy of a slice from a DataFrame.\n",
      "Try using .loc[row_indexer,col_indexer] = value instead\n",
      "\n",
      "See the caveats in the documentation: https://pandas.pydata.org/pandas-docs/stable/user_guide/indexing.html#returning-a-view-versus-a-copy\n",
      "  af['March'] =af['transaction_date'].apply(mar)\n",
      "C:\\Users\\user\\AppData\\Local\\Temp\\ipykernel_7752\\4205839930.py:28: SettingWithCopyWarning: \n",
      "A value is trying to be set on a copy of a slice from a DataFrame.\n",
      "Try using .loc[row_indexer,col_indexer] = value instead\n",
      "\n",
      "See the caveats in the documentation: https://pandas.pydata.org/pandas-docs/stable/user_guide/indexing.html#returning-a-view-versus-a-copy\n",
      "  af['April'] =af['transaction_date'].apply(apr)\n",
      "C:\\Users\\user\\AppData\\Local\\Temp\\ipykernel_7752\\4205839930.py:35: SettingWithCopyWarning: \n",
      "A value is trying to be set on a copy of a slice from a DataFrame.\n",
      "Try using .loc[row_indexer,col_indexer] = value instead\n",
      "\n",
      "See the caveats in the documentation: https://pandas.pydata.org/pandas-docs/stable/user_guide/indexing.html#returning-a-view-versus-a-copy\n",
      "  af['May'] =af['transaction_date'].apply(may)\n",
      "C:\\Users\\user\\AppData\\Local\\Temp\\ipykernel_7752\\4205839930.py:42: SettingWithCopyWarning: \n",
      "A value is trying to be set on a copy of a slice from a DataFrame.\n",
      "Try using .loc[row_indexer,col_indexer] = value instead\n",
      "\n",
      "See the caveats in the documentation: https://pandas.pydata.org/pandas-docs/stable/user_guide/indexing.html#returning-a-view-versus-a-copy\n",
      "  af['June'] =af['transaction_date'].apply(jun)\n"
     ]
    }
   ],
   "source": [
    "#checks if a particular set of data falls under a specific month\n",
    "def jan(x):\n",
    "    if x == 1:\n",
    "        return 1\n",
    "    else:\n",
    "        return 0\n",
    "af['January'] = af['transaction_date'].apply(jan)\n",
    "\n",
    "def feb(x):\n",
    "    if x == 2:\n",
    "        return 1\n",
    "    else:\n",
    "        return 0\n",
    "af['February'] =af['transaction_date'].apply(feb)\n",
    "\n",
    "def mar(x):\n",
    "    if x == 3:\n",
    "        return 1\n",
    "    else:\n",
    "        return 0\n",
    "af['March'] =af['transaction_date'].apply(mar)\n",
    "\n",
    "def apr(x):\n",
    "    if x == 4:\n",
    "        return 1\n",
    "    else:\n",
    "        return 0\n",
    "af['April'] =af['transaction_date'].apply(apr)\n",
    "\n",
    "def may(x):\n",
    "    if x == 5:\n",
    "        return 1\n",
    "    else:\n",
    "        return 0\n",
    "af['May'] =af['transaction_date'].apply(may)\n",
    "\n",
    "def jun(x):\n",
    "    if x == 6:\n",
    "        return 1\n",
    "    else:\n",
    "        return 0\n",
    "af['June'] =af['transaction_date'].apply(jun)"
   ]
  },
  {
   "cell_type": "code",
   "execution_count": 3,
   "id": "45fd772f-e891-40c0-966e-3488d2564cdd",
   "metadata": {},
   "outputs": [],
   "source": [
    "#makes a dataframe which contains the unique names of each individual as well as a list for each one containing the months in which they purchases\n",
    "#-------------------------------------------------------------------------------------------------------------------------------------------------\n",
    "#creates a dataframe that only contains data for a particular month\n",
    "jan=af.loc[:, af.columns.drop(['February', 'March', 'April', 'May', 'June'])]\n",
    "feb=af.loc[:, af.columns.drop(['January', 'March', 'April', 'May', 'June'])]\n",
    "mar=af.loc[:, af.columns.drop(['January','February', 'April', 'May', 'June'])]\n",
    "apr=af.loc[:, af.columns.drop(['January','February', 'March', 'May', 'June'])]\n",
    "may=af.loc[:, af.columns.drop(['January','February', 'March', 'April', 'June'])]\n",
    "jun=af.loc[:, af.columns.drop(['January','February', 'March', 'April', 'May'])]\n",
    "\n",
    "listofnames=af['name'].unique()\n",
    "peoplelist=list()\n",
    "\n",
    "#Dataframe that contains the name and list of months each customer bought in\n",
    "table = pd.DataFrame(listofnames,columns=['Name'])\n",
    "\n",
    "#Removes duplicates\n",
    "jan = jan.drop_duplicates()\n",
    "feb = feb.drop_duplicates()\n",
    "mar = mar.drop_duplicates()\n",
    "apr = apr.drop_duplicates()\n",
    "may = may.drop_duplicates()\n",
    "jun =jun.drop_duplicates()\n",
    "\n",
    "#Removes rows that did not purchase in a particular month\n",
    "jan = jan[jan['transaction_date']==1]\n",
    "feb = feb[feb['transaction_date']==2]\n",
    "mar = mar[mar['transaction_date']==3]\n",
    "apr = apr[apr['transaction_date']==4]\n",
    "may = may[may['transaction_date']==5]\n",
    "jun = jun[jun['transaction_date']==6]\n",
    "\n",
    "listofmonths=[jan,feb,mar,apr,may,jun]\n",
    "\n",
    "#Checks if a name is in the data for a particular month\n",
    "for name in listofnames:\n",
    "    personel=list()\n",
    "    if name in list(jan['name']):\n",
    "        personel.append(1)\n",
    "    if name in list(feb['name']):\n",
    "        personel.append(2)\n",
    "    if name in list(mar['name']):\n",
    "        personel.append(3)\n",
    "    if name in list(apr['name']):\n",
    "        personel.append(4)\n",
    "    if name in list(may['name']):\n",
    "        personel.append(5)\n",
    "    if name in list(jun['name']):\n",
    "        personel.append(6)\n",
    "    peoplelist.append(personel)\n",
    "table['Months']=peoplelist"
   ]
  },
  {
   "cell_type": "code",
   "execution_count": 4,
   "id": "765c4aab-731b-4024-94cd-41e5b3b9907f",
   "metadata": {},
   "outputs": [],
   "source": [
    "#engaged customers\n",
    "ejan = 0\n",
    "efeb= 0\n",
    "emar= 0\n",
    "eapr = 0\n",
    "emay = 0\n",
    "ejun = 0\n",
    "for v in table['Months']:\n",
    "    if 1 in v:\n",
    "            if 2 in v:\n",
    "                efeb = efeb+1\n",
    "                if 3 in v:\n",
    "                    emar = emar+1\n",
    "                    if 4 in v:\n",
    "                        eapr = eapr+1\n",
    "                        if 5 in v:\n",
    "                            emay = emay+1\n",
    "                            if 6 in v:\n",
    "                                ejun = ejun+1"
   ]
  },
  {
   "cell_type": "code",
   "execution_count": 5,
   "id": "dacb1173-1e73-4ccb-9071-83e86940f345",
   "metadata": {},
   "outputs": [],
   "source": [
    "#repeat customers\n",
    "rjan= 0\n",
    "rfeb= 0\n",
    "rmar= 0\n",
    "rapr = 0\n",
    "rmay = 0\n",
    "rjun = 0\n",
    "for r in table['Months']:\n",
    "    if 1 in r:\n",
    "        if 2 in r:\n",
    "            rfeb = rfeb+1\n",
    "    if 2 in r:\n",
    "        if 3 in r:\n",
    "            rmar = rmar+1\n",
    "    if 3 in r:\n",
    "        if 4 in r:\n",
    "            rapr = rapr+1\n",
    "    if 4 in r:\n",
    "        if 5 in r:\n",
    "            rmay = rmay+1\n",
    "    if 5 in r:\n",
    "        if 6 in r:\n",
    "            rjun = rjun+1"
   ]
  },
  {
   "cell_type": "code",
   "execution_count": 6,
   "id": "3577cc82-93d2-4a9f-9926-70d19d74da4f",
   "metadata": {},
   "outputs": [],
   "source": [
    "#inactive customers\n",
    "ijan= 0\n",
    "ifeb= 0\n",
    "imar= 0\n",
    "iapr = 0\n",
    "imay = 0\n",
    "ijun = 0\n",
    "for h in table['Months']:\n",
    "    if 1 in h:\n",
    "        if 2 not in h:\n",
    "            ifeb = ifeb+1\n",
    "        elif 2 in h:\n",
    "            if 3 not in h:\n",
    "                imar = imar+1\n",
    "            elif 3 in h:\n",
    "                if 4 not in h:\n",
    "                    iapr = iapr+1\n",
    "                elif 4 in h:\n",
    "                    if 5 not in h:\n",
    "                        imay = imay+1\n",
    "                    elif 5 in h:\n",
    "                        if 6 not in h:\n",
    "                            ijun = ijun+1"
   ]
  },
  {
   "cell_type": "code",
   "execution_count": 9,
   "id": "0c5bed9b-6c14-4ae6-944d-a47f2d04c1db",
   "metadata": {},
   "outputs": [
    {
     "data": {
      "text/html": [
       "<div>\n",
       "<style scoped>\n",
       "    .dataframe tbody tr th:only-of-type {\n",
       "        vertical-align: middle;\n",
       "    }\n",
       "\n",
       "    .dataframe tbody tr th {\n",
       "        vertical-align: top;\n",
       "    }\n",
       "\n",
       "    .dataframe thead th {\n",
       "        text-align: right;\n",
       "    }\n",
       "</style>\n",
       "<table border=\"1\" class=\"dataframe\">\n",
       "  <thead>\n",
       "    <tr style=\"text-align: right;\">\n",
       "      <th></th>\n",
       "      <th>Month</th>\n",
       "      <th>Repeating Customers</th>\n",
       "      <th>Inactive Customers</th>\n",
       "      <th>Enganged Customers</th>\n",
       "    </tr>\n",
       "  </thead>\n",
       "  <tbody>\n",
       "    <tr>\n",
       "      <th>0</th>\n",
       "      <td>January</td>\n",
       "      <td>0</td>\n",
       "      <td>0</td>\n",
       "      <td>0</td>\n",
       "    </tr>\n",
       "    <tr>\n",
       "      <th>1</th>\n",
       "      <td>February</td>\n",
       "      <td>5172</td>\n",
       "      <td>1416</td>\n",
       "      <td>5172</td>\n",
       "    </tr>\n",
       "    <tr>\n",
       "      <th>2</th>\n",
       "      <td>March</td>\n",
       "      <td>5216</td>\n",
       "      <td>1046</td>\n",
       "      <td>4126</td>\n",
       "    </tr>\n",
       "    <tr>\n",
       "      <th>3</th>\n",
       "      <td>April</td>\n",
       "      <td>5154</td>\n",
       "      <td>837</td>\n",
       "      <td>3289</td>\n",
       "    </tr>\n",
       "    <tr>\n",
       "      <th>4</th>\n",
       "      <td>May</td>\n",
       "      <td>5110</td>\n",
       "      <td>622</td>\n",
       "      <td>2667</td>\n",
       "    </tr>\n",
       "    <tr>\n",
       "      <th>5</th>\n",
       "      <td>June</td>\n",
       "      <td>5193</td>\n",
       "      <td>477</td>\n",
       "      <td>2190</td>\n",
       "    </tr>\n",
       "  </tbody>\n",
       "</table>\n",
       "</div>"
      ],
      "text/plain": [
       "      Month  Repeating Customers  Inactive Customers  Enganged Customers\n",
       "0   January                    0                   0                   0\n",
       "1  February                 5172                1416                5172\n",
       "2     March                 5216                1046                4126\n",
       "3     April                 5154                 837                3289\n",
       "4       May                 5110                 622                2667\n",
       "5      June                 5193                 477                2190"
      ]
     },
     "execution_count": 9,
     "metadata": {},
     "output_type": "execute_result"
    }
   ],
   "source": [
    "#Displaying the data\n",
    "FinalData={'Month':['January', 'February', 'March', 'April', 'May', 'June'],'Repeating Customers':[rjan, rfeb,rmar,rapr,rmay,rjun],\n",
    "           'Inactive Customers':[ijan,ifeb,imar,iapr,imay,ijun],'Enganged Customers':[ejan,efeb,emar,eapr,emay,ejun]}\n",
    "FinalFrame= pd.DataFrame(FinalData)\n",
    "FinalFrame"
   ]
  },
  {
   "cell_type": "code",
   "execution_count": 10,
   "id": "7fe2f4c1-ad45-4196-aeea-944e08bfb5c9",
   "metadata": {},
   "outputs": [
    {
     "data": {
      "image/png": "[encoded data removed]",
      "text/plain": [
       "<Figure size 432x288 with 1 Axes>"
      ]
     },
     "metadata": {
      "needs_background": "light"
     },
     "output_type": "display_data"
    }
   ],
   "source": [
    "Classification = ['Repeating', 'Inactive', 'Engaged']\n",
    "Quantity = [rfeb,ifeb,efeb]\n",
    "\n",
    "plt.bar(Classification, Quantity)\n",
    "plt.title('Customer Classifications in February')\n",
    "plt.xlabel('Classification')\n",
    "plt.ylabel('Quantity')\n",
    "plt.show()\n"
   ]
  },
  {
   "cell_type": "code",
   "execution_count": 12,
   "id": "9798821a-a14a-41d8-8cea-f3c5f2a3f4eb",
   "metadata": {},
   "outputs": [
    {
     "data": {
      "image/png": "[encoded data removed]",
      "text/plain": [
       "<Figure size 432x288 with 1 Axes>"
      ]
     },
     "metadata": {
      "needs_background": "light"
     },
     "output_type": "display_data"
    }
   ],
   "source": [
    "Classification = ['Repeating', 'Inactive', 'Engaged']\n",
    "Quantity = [rmar,imar,emar]\n",
    "\n",
    "plt.bar(Classification, Quantity)\n",
    "plt.title('Customer Classifications in March')\n",
    "plt.xlabel('Classification')\n",
    "plt.ylabel('Quantity')\n",
    "plt.show()"
   ]
  },
  {
   "cell_type": "code",
   "execution_count": 14,
   "id": "9418baf9-8f24-4527-9154-b72707b331d1",
   "metadata": {},
   "outputs": [
    {
     "data": {
      "image/png": "[encoded data removed]",
      "text/plain": [
       "<Figure size 432x288 with 1 Axes>"
      ]
     },
     "metadata": {
      "needs_background": "light"
     },
     "output_type": "display_data"
    }
   ],
   "source": [
    "Classification = ['Repeating', 'Inactive', 'Engaged']\n",
    "Quantity = [rapr,iapr,eapr]\n",
    "\n",
    "plt.bar(Classification, Quantity)\n",
    "plt.title('Customer Classifications in April')\n",
    "plt.xlabel('Classification')\n",
    "plt.ylabel('Quantity')\n",
    "plt.show()"
   ]
  },
  {
   "cell_type": "code",
   "execution_count": 16,
   "id": "8461b8f5-ceec-4913-aed2-804d2bb074ae",
   "metadata": {},
   "outputs": [
    {
     "data": {
      "image/png": "[encoded data removed]",
      "text/plain": [
       "<Figure size 432x288 with 1 Axes>"
      ]
     },
     "metadata": {
      "needs_background": "light"
     },
     "output_type": "display_data"
    }
   ],
   "source": [
    "Classification = ['Repeating', 'Inactive', 'Engaged']\n",
    "Quantity = [rmay,imay,emay]\n",
    "\n",
    "plt.bar(Classification, Quantity)\n",
    "plt.title('Customer Classifications in May')\n",
    "plt.xlabel('Classification')\n",
    "plt.ylabel('Quantity')\n",
    "plt.show()"
   ]
  },
  {
   "cell_type": "code",
   "execution_count": 17,
   "id": "e2859468-a9de-474a-8b49-683f17e1710f",
   "metadata": {},
   "outputs": [
    {
     "data": {
      "image/png": "[encoded data removed]",
      "text/plain": [
       "<Figure size 432x288 with 1 Axes>"
      ]
     },
     "metadata": {
      "needs_background": "light"
     },
     "output_type": "display_data"
    }
   ],
   "source": [
    "Classification = ['Repeating', 'Inactive', 'Engaged']\n",
    "Quantity = [rjun,ijun,ejun]\n",
    "\n",
    "plt.bar(Classification, Quantity)\n",
    "plt.title('Customer Classifications in June')\n",
    "plt.xlabel('Classification')\n",
    "plt.ylabel('Quantity')\n",
    "plt.show()"
   ]
  },
  {
   "cell_type": "code",
   "execution_count": null,
   "id": "e7e8597d-d73a-4884-8ae8-25d1ca0abfb5",
   "metadata": {},
   "outputs": [],
   "source": []
  }
 ],
 "metadata": {
  "kernelspec": {
   "display_name": "Python 3 (ipykernel)",
   "language": "python",
   "name": "python3"
  },
  "language_info": {
   "codemirror_mode": {
    "name": "ipython",
    "version": 3
   },
   "file_extension": ".py",
   "mimetype": "text/x-python",
   "name": "python",
   "nbconvert_exporter": "python",
   "pygments_lexer": "ipython3",
   "version": "3.9.12"
  }
 },
 "nbformat": 4,
 "nbformat_minor": 5
}
